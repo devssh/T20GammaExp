{
 "cells": [
  {
   "cell_type": "code",
   "execution_count": 2,
   "metadata": {},
   "outputs": [
    {
     "data": {
      "image/png": "[encoded data removed]",
      "text/plain": [
       "<matplotlib.figure.Figure at 0x1a07935278>"
      ]
     },
     "metadata": {},
     "output_type": "display_data"
    },
    {
     "name": "stdout",
     "output_type": "stream",
     "text": [
      "(array(100.0), array(25.0), array(0.0), array(0.0))\n"
     ]
    }
   ],
   "source": [
    "import scipy.stats\n",
    "import matplotlib.pyplot as plt\n",
    "distribution = scipy.stats.norm(loc=100,scale=5)\n",
    "sample = distribution.rvs(size=10000)\n",
    "plt.hist(sample)\n",
    "plt.show()\n",
    "print(distribution.stats('mvsk'))\n"
   ]
  },
  {
   "cell_type": "code",
   "execution_count": 3,
   "metadata": {},
   "outputs": [],
   "source": [
    "from scipy.stats import gamma\n",
    "import numpy as np\n",
    "import matplotlib.pyplot as plt\n",
    "\n"
   ]
  },
  {
   "cell_type": "code",
   "execution_count": 4,
   "metadata": {},
   "outputs": [
    {
     "data": {
      "text/plain": [
       "(array(1.0), array(1.0), array(2.0), array(6.0))"
      ]
     },
     "execution_count": 4,
     "metadata": {},
     "output_type": "execute_result"
    }
   ],
   "source": [
    "gamma.stats(1, moments='mvsk')"
   ]
  },
  {
   "cell_type": "code",
   "execution_count": 5,
   "metadata": {},
   "outputs": [
    {
     "data": {
      "text/plain": [
       "(array(1.5), array(1.5), array(1.6329931618554523), array(4.0))"
      ]
     },
     "execution_count": 5,
     "metadata": {},
     "output_type": "execute_result"
    }
   ],
   "source": [
    "gamma.stats(1.5, moments='mvsk')"
   ]
  },
  {
   "cell_type": "code",
   "execution_count": 6,
   "metadata": {},
   "outputs": [
    {
     "data": {
      "text/plain": [
       "(array(2.0), array(2.0), array(1.414213562373095), array(3.0))"
      ]
     },
     "execution_count": 6,
     "metadata": {},
     "output_type": "execute_result"
    }
   ],
   "source": [
    "gamma.stats(2, moments='mvsk')"
   ]
  },
  {
   "cell_type": "code",
   "execution_count": 7,
   "metadata": {},
   "outputs": [
    {
     "data": {
      "text/plain": [
       "(array(3.0), array(3.0), array(1.1547005383792517), array(2.0))"
      ]
     },
     "execution_count": 7,
     "metadata": {},
     "output_type": "execute_result"
    }
   ],
   "source": [
    "gamma.stats(3, moments='mvsk')"
   ]
  },
  {
   "cell_type": "code",
   "execution_count": 8,
   "metadata": {},
   "outputs": [
    {
     "data": {
      "text/plain": [
       "(array(4.0), array(4.0), array(1.0), array(1.5))"
      ]
     },
     "execution_count": 8,
     "metadata": {},
     "output_type": "execute_result"
    }
   ],
   "source": [
    "gamma.stats(4, moments='mvsk')"
   ]
  },
  {
   "cell_type": "code",
   "execution_count": 9,
   "metadata": {},
   "outputs": [
    {
     "data": {
      "text/plain": [
       "(array(5.0), array(5.0), array(0.8944271909999159), array(1.2))"
      ]
     },
     "execution_count": 9,
     "metadata": {},
     "output_type": "execute_result"
    }
   ],
   "source": [
    "gamma.stats(5, moments='mvsk')"
   ]
  },
  {
   "cell_type": "code",
   "execution_count": 10,
   "metadata": {},
   "outputs": [
    {
     "data": {
      "text/plain": [
       "(array(6.0), array(6.0), array(0.8164965809277261), array(1.0))"
      ]
     },
     "execution_count": 10,
     "metadata": {},
     "output_type": "execute_result"
    }
   ],
   "source": [
    "gamma.stats(6, moments='mvsk')"
   ]
  },
  {
   "cell_type": "code",
   "execution_count": 11,
   "metadata": {},
   "outputs": [
    {
     "data": {
      "image/png": "[encoded data removed]",
      "text/plain": [
       "<matplotlib.figure.Figure at 0x1a0d359da0>"
      ]
     },
     "metadata": {},
     "output_type": "display_data"
    }
   ],
   "source": [
    "a = 1\n",
    "fig, ax = plt.subplots(1, 1)\n",
    "\n",
    "r = gamma.rvs(a, size=1000)\n",
    "\n",
    "ax.hist(r, density=True, histtype='stepfilled', alpha=0.2)\n",
    "ax.legend(loc='best', frameon=False)\n",
    "plt.show()"
   ]
  },
  {
   "cell_type": "code",
   "execution_count": 12,
   "metadata": {},
   "outputs": [
    {
     "data": {
      "image/png": "[encoded data removed]",
      "text/plain": [
       "<matplotlib.figure.Figure at 0x1a106c5940>"
      ]
     },
     "metadata": {},
     "output_type": "display_data"
    }
   ],
   "source": [
    "a = 2\n",
    "fig, ax = plt.subplots(1, 1)\n",
    "\n",
    "r = gamma.rvs(a, size=1000)\n",
    "\n",
    "ax.hist(r, density=True, histtype='stepfilled', alpha=0.2)\n",
    "ax.legend(loc='best', frameon=False)\n",
    "plt.show()"
   ]
  },
  {
   "cell_type": "code",
   "execution_count": 13,
   "metadata": {},
   "outputs": [
    {
     "data": {
      "image/png": "[encoded data removed]",
      "text/plain": [
       "<matplotlib.figure.Figure at 0x1a107684a8>"
      ]
     },
     "metadata": {},
     "output_type": "display_data"
    }
   ],
   "source": [
    "a = 3\n",
    "fig, ax = plt.subplots(1, 1)\n",
    "\n",
    "r = gamma.rvs(a, size=1000)\n",
    "\n",
    "ax.hist(r, density=True, histtype='stepfilled', alpha=0.2)\n",
    "ax.legend(loc='best', frameon=False)\n",
    "plt.show()"
   ]
  },
  {
   "cell_type": "code",
   "execution_count": 14,
   "metadata": {},
   "outputs": [
    {
     "data": {
      "image/png": "[encoded data removed]",
      "text/plain": [
       "<matplotlib.figure.Figure at 0x1a107ad940>"
      ]
     },
     "metadata": {},
     "output_type": "display_data"
    }
   ],
   "source": [
    "a = 4\n",
    "fig, ax = plt.subplots(1, 1)\n",
    "\n",
    "r = gamma.rvs(a, size=1000)\n",
    "\n",
    "ax.hist(r, density=True, histtype='stepfilled', alpha=0.2)\n",
    "ax.legend(loc='best', frameon=False)\n",
    "plt.show()"
   ]
  },
  {
   "cell_type": "code",
   "execution_count": 15,
   "metadata": {},
   "outputs": [
    {
     "data": {
      "image/png": "[encoded data removed]",
      "text/plain": [
       "<matplotlib.figure.Figure at 0x1a1079cb00>"
      ]
     },
     "metadata": {},
     "output_type": "display_data"
    }
   ],
   "source": [
    "a = 5\n",
    "fig, ax = plt.subplots(1, 1)\n",
    "\n",
    "r = gamma.rvs(a, size=1000)\n",
    "\n",
    "ax.hist(r, density=True, histtype='stepfilled', alpha=0.2)\n",
    "ax.legend(loc='best', frameon=False)\n",
    "plt.show()"
   ]
  },
  {
   "cell_type": "code",
   "execution_count": 16,
   "metadata": {},
   "outputs": [
    {
     "data": {
      "image/png": "[encoded data removed]",
      "text/plain": [
       "<matplotlib.figure.Figure at 0x1a0d30e828>"
      ]
     },
     "metadata": {},
     "output_type": "display_data"
    }
   ],
   "source": [
    "a = 6\n",
    "fig, ax = plt.subplots(1, 1)\n",
    "\n",
    "r = gamma.rvs(a, size=1000)\n",
    "\n",
    "ax.hist(r, density=True, histtype='stepfilled', alpha=0.2)\n",
    "ax.legend(loc='best', frameon=False)\n",
    "plt.show()"
   ]
  },
  {
   "cell_type": "code",
   "execution_count": 17,
   "metadata": {},
   "outputs": [
    {
     "data": {
      "text/plain": [
       "array([ 0.        ,  0.00306566,  0.03608941,  0.10081881,  0.15629345,\n",
       "        0.17546737])"
      ]
     },
     "execution_count": 17,
     "metadata": {},
     "output_type": "execute_result"
    }
   ],
   "source": [
    "gamma.pdf([1, 2, 3, 4, 5, 6], a=6, loc=1, scale=1)"
   ]
  },
  {
   "cell_type": "code",
   "execution_count": 18,
   "metadata": {},
   "outputs": [
    {
     "data": {
      "text/plain": [
       "array([ 1.        ,  0.36787944,  0.13533528,  0.04978707,  0.01831564,\n",
       "        0.00673795])"
      ]
     },
     "execution_count": 18,
     "metadata": {},
     "output_type": "execute_result"
    }
   ],
   "source": [
    "gamma.pdf([1, 2, 3, 4, 5, 6], a=1, loc=1, scale=1)"
   ]
  },
  {
   "cell_type": "code",
   "execution_count": 20,
   "metadata": {},
   "outputs": [
    {
     "name": "stdout",
     "output_type": "stream",
     "text": [
      "0.016531972222222222 hrs to completion\n",
      "1.67950685044\n",
      "[-1.9288038479871323, -0.77669670850805961, -0.14822737487659465, 0.19459985861643425, 0.38161059364364835, 0.48362411998775673]\n",
      "[(0.20202020202020066, -0.20202020202020066, 5.4545454545454533), (0.20202020202020066, -0.20202020202020066, 5.8585858585858581), (0.20202020202020066, 0.20202020202020066, 1.4141414141414153), (0.20202020202020066, 0.20202020202020066, 1.8181818181818166), (0.20202020202020066, 0.20202020202020066, 2.2222222222222214), (0.20202020202020066, 0.20202020202020066, 2.6262626262626263), (0.20202020202020066, 0.20202020202020066, 3.0303030303030312), (0.20202020202020066, 0.20202020202020066, 3.4343434343434325), (0.20202020202020066, 0.20202020202020066, 3.8383838383838373), (0.20202020202020066, 0.60606060606060552, -0.60606060606060552)]\n",
      "next\n",
      "\n",
      "\n",
      "\n",
      "0.016235805555555555 hrs to completion\n",
      "2.24105855775\n",
      "[-0.20917734625812201, -0.11216195414733038, 0.033153954303129229, 0.25081748984465524, 0.57684796516999637, 1.065197428833784]\n",
      "[(-3.6363636363636402, 0.40404040404040131, 0.40404040404040131), (-2.8282828282828305, 0.40404040404040131, 0.40404040404040131), (-2.0202020202020208, 0.40404040404040131, 0.40404040404040131), (-1.212121212121211, 0.40404040404040131, 0.40404040404040131), (-0.40404040404040131, 0.40404040404040131, 0.40404040404040131), (0.40404040404040131, -0.40404040404040131, 3.6363636363636331), (0.40404040404040131, 0.40404040404040131, -0.40404040404040131), (1.212121212121211, 1.212121212121211, -0.40404040404040131), (2.8282828282828305, -0.40404040404040131, 0.40404040404040131), (3.6363636363636331, -0.40404040404040131, 0.40404040404040131)]\n",
      "next\n",
      "\n",
      "\n",
      "\n",
      "0.016218333333333335 hrs to completion\n",
      "1.44915275331\n",
      "[-1.7431893633809588, -0.50111940304876801, 0.11132850003166705, 0.41331827996910631, 0.56222535717185984, 0.63564942352821241]\n",
      "[(0.10101010101010033, 0.10101010101010033, 7.7777777777777786), (0.10101010101010033, 0.10101010101010033, 7.9797979797979792), (0.10101010101010033, 0.10101010101010033, 8.1818181818181799), (0.10101010101010033, 0.10101010101010033, 8.3838383838383841), (0.10101010101010033, 0.10101010101010033, 8.5858585858585847), (0.10101010101010033, 0.10101010101010033, 8.787878787878789), (0.10101010101010033, 0.10101010101010033, 8.9898989898989896), (0.10101010101010033, 0.30303030303030276, -0.70707070707070763), (0.10101010101010033, 0.50505050505050519, -0.70707070707070763), (0.10101010101010033, 0.70707070707070763, -0.70707070707070763)]\n",
      "next\n",
      "\n",
      "\n",
      "\n",
      "0.15374408333333334 hrs to completion\n",
      "1.4011147719\n",
      "[-1.8010380547805744, -0.52515034831530394, 0.10168678097019823, 0.40964866872868422, 0.56094877505753837, 0.63528174639285862]\n",
      "[(0.10101010101010033, 0.10101010101010033, 8.8388388388388393), (0.10101010101010033, 0.10101010101010033, 8.8588588588588593), (0.10101010101010033, 0.10101010101010033, 8.8788788788788793), (0.10101010101010033, 0.10101010101010033, 8.8988988988988993), (0.10101010101010033, 0.30303030303030276, -0.71071071071071046), (0.10101010101010033, 0.30303030303030276, -0.69069069069069045), (0.10101010101010033, 0.50505050505050519, -0.73073073073073047), (0.10101010101010033, 0.50505050505050519, -0.71071071071071046), (0.10101010101010033, 0.70707070707070763, -0.73073073073073047), (0.10101010101010033, 0.70707070707070763, -0.71071071071071046)]\n",
      "next\n",
      "\n",
      "\n",
      "\n",
      "2.091057777777778 hrs to completion\n"
     ]
    },
    {
     "ename": "KeyboardInterrupt",
     "evalue": "",
     "output_type": "error",
     "traceback": [
      "\u001b[0;31m---------------------------------------------------------------------------\u001b[0m",
      "\u001b[0;31mKeyboardInterrupt\u001b[0m                         Traceback (most recent call last)",
      "\u001b[0;32m<ipython-input-20-3179d070b766>\u001b[0m in \u001b[0;36m<module>\u001b[0;34m()\u001b[0m\n\u001b[1;32m     49\u001b[0m \u001b[0mprint\u001b[0m\u001b[0;34m(\u001b[0m\u001b[0;34m\"next\\n\\n\\n\"\u001b[0m\u001b[0;34m)\u001b[0m\u001b[0;34m\u001b[0m\u001b[0m\n\u001b[1;32m     50\u001b[0m \u001b[0;34m\u001b[0m\u001b[0m\n\u001b[0;32m---> 51\u001b[0;31m \u001b[0mout5\u001b[0m \u001b[0;34m=\u001b[0m \u001b[0msearch_space\u001b[0m\u001b[0;34m(\u001b[0m\u001b[0;36m100\u001b[0m\u001b[0;34m,\u001b[0m \u001b[0;36m100\u001b[0m\u001b[0;34m,\u001b[0m \u001b[0;36m10000\u001b[0m\u001b[0;34m)\u001b[0m\u001b[0;34m\u001b[0m\u001b[0m\n\u001b[0m\u001b[1;32m     52\u001b[0m \u001b[0mprint\u001b[0m\u001b[0;34m(\u001b[0m\u001b[0mout5\u001b[0m\u001b[0;34m)\u001b[0m\u001b[0;34m\u001b[0m\u001b[0m\n\u001b[1;32m     53\u001b[0m \u001b[0mprint\u001b[0m\u001b[0;34m(\u001b[0m\u001b[0;34m\"next\\n\\n\\n\"\u001b[0m\u001b[0;34m)\u001b[0m\u001b[0;34m\u001b[0m\u001b[0m\n",
      "\u001b[0;32m<ipython-input-20-3179d070b766>\u001b[0m in \u001b[0;36msearch_space\u001b[0;34m(granularity_x, granularity_y, granularity_z, range_x, range_y)\u001b[0m\n\u001b[1;32m     25\u001b[0m         \u001b[0;32mfor\u001b[0m \u001b[0my\u001b[0m \u001b[0;32min\u001b[0m \u001b[0mnp\u001b[0m\u001b[0;34m.\u001b[0m\u001b[0mlinspace\u001b[0m\u001b[0;34m(\u001b[0m\u001b[0mrange_x\u001b[0m\u001b[0;34m,\u001b[0m \u001b[0mrange_y\u001b[0m\u001b[0;34m,\u001b[0m \u001b[0mgranularity_y\u001b[0m\u001b[0;34m)\u001b[0m\u001b[0;34m:\u001b[0m\u001b[0;34m\u001b[0m\u001b[0m\n\u001b[1;32m     26\u001b[0m             \u001b[0;32mfor\u001b[0m \u001b[0mz\u001b[0m \u001b[0;32min\u001b[0m \u001b[0mnp\u001b[0m\u001b[0;34m.\u001b[0m\u001b[0mlinspace\u001b[0m\u001b[0;34m(\u001b[0m\u001b[0mrange_x\u001b[0m\u001b[0;34m,\u001b[0m \u001b[0mrange_y\u001b[0m\u001b[0;34m,\u001b[0m \u001b[0mgranularity_z\u001b[0m\u001b[0;34m)\u001b[0m\u001b[0;34m:\u001b[0m\u001b[0;34m\u001b[0m\u001b[0m\n\u001b[0;32m---> 27\u001b[0;31m                 \u001b[0mvalue\u001b[0m \u001b[0;34m=\u001b[0m \u001b[0mcalculate_diff\u001b[0m\u001b[0;34m(\u001b[0m\u001b[0mcalculate_x\u001b[0m\u001b[0;34m(\u001b[0m\u001b[0mx\u001b[0m\u001b[0;34m,\u001b[0m \u001b[0my\u001b[0m\u001b[0;34m,\u001b[0m \u001b[0mz\u001b[0m\u001b[0;34m)\u001b[0m\u001b[0;34m)\u001b[0m\u001b[0;34m\u001b[0m\u001b[0m\n\u001b[0m\u001b[1;32m     28\u001b[0m                 \u001b[0;32mif\u001b[0m \u001b[0mvalue\u001b[0m \u001b[0;34m<\u001b[0m \u001b[0mbest\u001b[0m\u001b[0;34m:\u001b[0m\u001b[0;34m\u001b[0m\u001b[0m\n\u001b[1;32m     29\u001b[0m                     \u001b[0mbest\u001b[0m \u001b[0;34m=\u001b[0m \u001b[0mvalue\u001b[0m\u001b[0;34m\u001b[0m\u001b[0m\n",
      "\u001b[0;32m<ipython-input-20-3179d070b766>\u001b[0m in \u001b[0;36mcalculate_x\u001b[0;34m(offset_factor, offset, Lambda)\u001b[0m\n\u001b[1;32m     10\u001b[0m \u001b[0;34m\u001b[0m\u001b[0m\n\u001b[1;32m     11\u001b[0m \u001b[0;32mdef\u001b[0m \u001b[0mcalculate_x\u001b[0m\u001b[0;34m(\u001b[0m\u001b[0moffset_factor\u001b[0m\u001b[0;34m,\u001b[0m \u001b[0moffset\u001b[0m\u001b[0;34m,\u001b[0m \u001b[0mLambda\u001b[0m\u001b[0;34m)\u001b[0m\u001b[0;34m:\u001b[0m\u001b[0;34m\u001b[0m\u001b[0m\n\u001b[0;32m---> 12\u001b[0;31m     \u001b[0;32mreturn\u001b[0m \u001b[0;34m[\u001b[0m\u001b[0mexp\u001b[0m\u001b[0;34m(\u001b[0m\u001b[0mi\u001b[0m\u001b[0;34m,\u001b[0m \u001b[0moffset_factor\u001b[0m\u001b[0;34m,\u001b[0m \u001b[0moffset\u001b[0m\u001b[0;34m,\u001b[0m \u001b[0mLambda\u001b[0m\u001b[0;34m)\u001b[0m \u001b[0;32mfor\u001b[0m \u001b[0mi\u001b[0m \u001b[0;32min\u001b[0m \u001b[0mrange\u001b[0m\u001b[0;34m(\u001b[0m\u001b[0;36m1\u001b[0m\u001b[0;34m,\u001b[0m \u001b[0;36m7\u001b[0m\u001b[0;34m)\u001b[0m\u001b[0;34m]\u001b[0m\u001b[0;34m\u001b[0m\u001b[0m\n\u001b[0m\u001b[1;32m     13\u001b[0m \u001b[0;34m\u001b[0m\u001b[0m\n\u001b[1;32m     14\u001b[0m \u001b[0;32mdef\u001b[0m \u001b[0msearch_space\u001b[0m\u001b[0;34m(\u001b[0m\u001b[0mgranularity_x\u001b[0m\u001b[0;34m,\u001b[0m \u001b[0mgranularity_y\u001b[0m\u001b[0;34m,\u001b[0m \u001b[0mgranularity_z\u001b[0m\u001b[0;34m,\u001b[0m \u001b[0mrange_x\u001b[0m\u001b[0;34m=\u001b[0m\u001b[0;34m-\u001b[0m\u001b[0;36m10\u001b[0m\u001b[0;34m,\u001b[0m \u001b[0mrange_y\u001b[0m\u001b[0;34m=\u001b[0m\u001b[0;36m10\u001b[0m\u001b[0;34m)\u001b[0m\u001b[0;34m:\u001b[0m\u001b[0;34m\u001b[0m\u001b[0m\n",
      "\u001b[0;32m<ipython-input-20-3179d070b766>\u001b[0m in \u001b[0;36m<listcomp>\u001b[0;34m(.0)\u001b[0m\n\u001b[1;32m     10\u001b[0m \u001b[0;34m\u001b[0m\u001b[0m\n\u001b[1;32m     11\u001b[0m \u001b[0;32mdef\u001b[0m \u001b[0mcalculate_x\u001b[0m\u001b[0;34m(\u001b[0m\u001b[0moffset_factor\u001b[0m\u001b[0;34m,\u001b[0m \u001b[0moffset\u001b[0m\u001b[0;34m,\u001b[0m \u001b[0mLambda\u001b[0m\u001b[0;34m)\u001b[0m\u001b[0;34m:\u001b[0m\u001b[0;34m\u001b[0m\u001b[0m\n\u001b[0;32m---> 12\u001b[0;31m     \u001b[0;32mreturn\u001b[0m \u001b[0;34m[\u001b[0m\u001b[0mexp\u001b[0m\u001b[0;34m(\u001b[0m\u001b[0mi\u001b[0m\u001b[0;34m,\u001b[0m \u001b[0moffset_factor\u001b[0m\u001b[0;34m,\u001b[0m \u001b[0moffset\u001b[0m\u001b[0;34m,\u001b[0m \u001b[0mLambda\u001b[0m\u001b[0;34m)\u001b[0m \u001b[0;32mfor\u001b[0m \u001b[0mi\u001b[0m \u001b[0;32min\u001b[0m \u001b[0mrange\u001b[0m\u001b[0;34m(\u001b[0m\u001b[0;36m1\u001b[0m\u001b[0;34m,\u001b[0m \u001b[0;36m7\u001b[0m\u001b[0;34m)\u001b[0m\u001b[0;34m]\u001b[0m\u001b[0;34m\u001b[0m\u001b[0m\n\u001b[0m\u001b[1;32m     13\u001b[0m \u001b[0;34m\u001b[0m\u001b[0m\n\u001b[1;32m     14\u001b[0m \u001b[0;32mdef\u001b[0m \u001b[0msearch_space\u001b[0m\u001b[0;34m(\u001b[0m\u001b[0mgranularity_x\u001b[0m\u001b[0;34m,\u001b[0m \u001b[0mgranularity_y\u001b[0m\u001b[0;34m,\u001b[0m \u001b[0mgranularity_z\u001b[0m\u001b[0;34m,\u001b[0m \u001b[0mrange_x\u001b[0m\u001b[0;34m=\u001b[0m\u001b[0;34m-\u001b[0m\u001b[0;36m10\u001b[0m\u001b[0;34m,\u001b[0m \u001b[0mrange_y\u001b[0m\u001b[0;34m=\u001b[0m\u001b[0;36m10\u001b[0m\u001b[0;34m)\u001b[0m\u001b[0;34m:\u001b[0m\u001b[0;34m\u001b[0m\u001b[0m\n",
      "\u001b[0;32m<ipython-input-20-3179d070b766>\u001b[0m in \u001b[0;36mexp\u001b[0;34m(run_rate_per_ball, offset_factor, offset, Lambda)\u001b[0m\n\u001b[1;32m      4\u001b[0m \u001b[0;31m#     offset = 1.3\u001b[0m\u001b[0;34m\u001b[0m\u001b[0;34m\u001b[0m\u001b[0m\n\u001b[1;32m      5\u001b[0m \u001b[0;31m#     Lambda = 1\u001b[0m\u001b[0;34m\u001b[0m\u001b[0;34m\u001b[0m\u001b[0m\n\u001b[0;32m----> 6\u001b[0;31m     \u001b[0;32mreturn\u001b[0m \u001b[0;34m(\u001b[0m\u001b[0mLambda\u001b[0m \u001b[0;34m*\u001b[0m \u001b[0mmath\u001b[0m\u001b[0;34m.\u001b[0m\u001b[0mexp\u001b[0m\u001b[0;34m(\u001b[0m\u001b[0;34m-\u001b[0m\u001b[0mLambda\u001b[0m \u001b[0;34m*\u001b[0m \u001b[0;34m(\u001b[0m\u001b[0;36m6\u001b[0m \u001b[0;34m-\u001b[0m \u001b[0mrun_rate_per_ball\u001b[0m\u001b[0;34m)\u001b[0m\u001b[0;34m)\u001b[0m\u001b[0;34m)\u001b[0m \u001b[0;34m*\u001b[0m \u001b[0moffset_factor\u001b[0m \u001b[0;34m+\u001b[0m \u001b[0moffset\u001b[0m\u001b[0;34m\u001b[0m\u001b[0m\n\u001b[0m\u001b[1;32m      7\u001b[0m \u001b[0;34m\u001b[0m\u001b[0m\n\u001b[1;32m      8\u001b[0m \u001b[0;32mdef\u001b[0m \u001b[0mcalculate_diff\u001b[0m\u001b[0;34m(\u001b[0m\u001b[0mx\u001b[0m\u001b[0;34m)\u001b[0m\u001b[0;34m:\u001b[0m\u001b[0;34m\u001b[0m\u001b[0m\n",
      "\u001b[0;31mKeyboardInterrupt\u001b[0m: "
     ]
    }
   ],
   "source": [
    "import math\n",
    "def exp(run_rate_per_ball, offset_factor, offset, Lambda):\n",
    "#     offset_factor = -9.0\n",
    "#     offset = 1.3\n",
    "#     Lambda = 1\n",
    "    return (Lambda * math.exp(-Lambda * (6 - run_rate_per_ball))) * offset_factor + offset\n",
    "\n",
    "def calculate_diff(x):\n",
    "    return sum([abs(-2 - x[0]), abs(-0.09 - x[1]), abs(0.1 - x[2]), abs(0.27-x[3]), abs(0.3-x[4]), abs(1- x[5])])\n",
    "\n",
    "def calculate_x(offset_factor, offset, Lambda):\n",
    "    return [exp(i, offset_factor, offset, Lambda) for i in range(1, 7)]\n",
    "\n",
    "def search_space(granularity_x, granularity_y, granularity_z, range_x=-10, range_y=10):\n",
    "    from datetime import datetime\n",
    "    best = 1000\n",
    "    results = []\n",
    "    count = 0\n",
    "    start = datetime.now()\n",
    "\n",
    "    for x in np.linspace(range_x, range_y, granularity_x):\n",
    "        count = count + 1\n",
    "        if count == 10:\n",
    "            print(((datetime.now() - start).total_seconds() * 100) / 3600, \"hrs to completion\")\n",
    "        for y in np.linspace(range_x, range_y, granularity_y):\n",
    "            for z in np.linspace(range_x, range_y, granularity_z):\n",
    "                value = calculate_diff(calculate_x(x, y, z))\n",
    "                if value < best:\n",
    "                    best = value\n",
    "                    results = [*results, (x, y, z)]\n",
    "    print(best)\n",
    "    print(calculate_x(*results[-1:][0]))\n",
    "    return results[-10:]\n",
    "\n",
    "out10 = search_space(100, 100, 100, -20, 20)\n",
    "print(out10)\n",
    "print(\"next\\n\\n\\n\")\n",
    "\n",
    "out11 = search_space(100, 100, 100, -40, 40)\n",
    "print(out11)\n",
    "print(\"next\\n\\n\\n\")\n",
    "\n",
    "out0 = search_space(100, 100, 100)\n",
    "print(out0)\n",
    "print(\"next\\n\\n\\n\")\n",
    "\n",
    "out4 = search_space(100, 100, 1000)\n",
    "print(out4)\n",
    "print(\"next\\n\\n\\n\")\n",
    "\n",
    "out5 = search_space(100, 100, 10000)\n",
    "print(out5)\n",
    "print(\"next\\n\\n\\n\")\n",
    "\n",
    "# outbig = search_space(100, 100, 100000)\n",
    "# print(outbig)\n",
    "# print(\"next\\n\\n\\n\")\n",
    "\n",
    "\n",
    "out1 = search_space(1000, 1000, 100)\n",
    "print(out1)\n",
    "print(\"next\\n\\n\\n\")\n",
    "\n",
    "out2 = search_space(1000, 1000, 1000)\n",
    "print(out2)\n",
    "print(\"next\\n\\n\\n\")\n",
    "\n",
    "\n",
    "\n",
    "outbig = search_space(300, 300, 10000, -20, 20)\n",
    "print(outbig)\n",
    "print(\"next\\n\\n\\n\")\n",
    "\n",
    "\n",
    "\n"
   ]
  },
  {
   "cell_type": "code",
   "execution_count": null,
   "metadata": {},
   "outputs": [],
   "source": [
    "len(out0)"
   ]
  },
  {
   "cell_type": "code",
   "execution_count": null,
   "metadata": {},
   "outputs": [],
   "source": []
  },
  {
   "cell_type": "code",
   "execution_count": null,
   "metadata": {
    "collapsed": true
   },
   "outputs": [],
   "source": []
  }
 ],
 "metadata": {
  "kernelspec": {
   "display_name": "Python 3",
   "language": "python",
   "name": "python3"
  },
  "language_info": {
   "codemirror_mode": {
    "name": "ipython",
    "version": 3
   },
   "file_extension": ".py",
   "mimetype": "text/x-python",
   "name": "python",
   "nbconvert_exporter": "python",
   "pygments_lexer": "ipython3",
   "version": "3.6.3"
  }
 },
 "nbformat": 4,
 "nbformat_minor": 2
}
